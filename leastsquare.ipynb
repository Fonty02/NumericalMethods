{
 "cells": [
  {
   "cell_type": "markdown",
   "metadata": {},
   "source": [
    "#LEAST SQUARE WITH NORMAL EQUATIONS\n"
   ]
  },
  {
   "cell_type": "code",
   "execution_count": 9,
   "metadata": {},
   "outputs": [
    {
     "name": "stdout",
     "output_type": "stream",
     "text": [
      "[ 5.28685592e+02 -2.56243599e+01 -8.25690462e-02  1.80728946e+00]\n",
      "[2.2934908  0.50347252]\n"
     ]
    }
   ],
   "source": [
    "import numpy as np\n",
    "#Meyer 4.6.8\n",
    "A=np.array([[1,13.1,619,23],[1,13.5,803,42],[1,13.8,207,31],[1,13.1,409,31],[1,12.5,482,45]])\n",
    "T=np.array([181,193,212,221,248])\n",
    "alpha=np.linalg.solve(A.T@A,A.T@T)\n",
    "print(alpha)\n",
    "\n",
    "#Meyer 4.6.6\n",
    "A=np.array([[1,1],[1,2],[1,3],[1,4],[1,5]])\n",
    "b=np.array([16,28,45,74,122])\n",
    "b=np.log(b)\n",
    "alpha=np.linalg.solve(A.T@A,A.T@b)\n",
    "print(alpha)\n",
    "\n"
   ]
  }
 ],
 "metadata": {
  "kernelspec": {
   "display_name": "Python 3",
   "language": "python",
   "name": "python3"
  },
  "language_info": {
   "codemirror_mode": {
    "name": "ipython",
    "version": 3
   },
   "file_extension": ".py",
   "mimetype": "text/x-python",
   "name": "python",
   "nbconvert_exporter": "python",
   "pygments_lexer": "ipython3",
   "version": "3.12.2"
  }
 },
 "nbformat": 4,
 "nbformat_minor": 2
}
